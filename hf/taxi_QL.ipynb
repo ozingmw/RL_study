{
 "cells": [
  {
   "cell_type": "code",
   "execution_count": 25,
   "metadata": {},
   "outputs": [],
   "source": [
    "import gymnasium as gym\n",
    "import numpy as np\n",
    "from tqdm.notebook import tqdm"
   ]
  },
  {
   "cell_type": "code",
   "execution_count": 26,
   "metadata": {},
   "outputs": [],
   "source": [
    "env = gym.make('Taxi-v3', render_mode='rgb_array')"
   ]
  },
  {
   "cell_type": "code",
   "execution_count": 27,
   "metadata": {},
   "outputs": [],
   "source": [
    "q_table = np.zeros((env.observation_space.n, env.action_space.n), dtype=np.float64)"
   ]
  },
  {
   "cell_type": "code",
   "execution_count": 28,
   "metadata": {},
   "outputs": [],
   "source": [
    "def epsilon_greedy(state, info, epsilon):\n",
    "    if np.random.uniform() < epsilon:\n",
    "        action = env.action_space.sample(info[\"action_mask\"])\n",
    "    else:\n",
    "        action = np.argmax(q_table[state][np.where(info[\"action_mask\"] == 1)[0]])\n",
    "    return action"
   ]
  },
  {
   "cell_type": "code",
   "execution_count": 29,
   "metadata": {},
   "outputs": [],
   "source": [
    "episodes = 100000\n",
    "learning_rate = 0.7\n",
    "gamma = 0.95"
   ]
  },
  {
   "cell_type": "code",
   "execution_count": 30,
   "metadata": {},
   "outputs": [
    {
     "data": {
      "application/vnd.jupyter.widget-view+json": {
       "model_id": "f84ee846d5234e91bd7c9a3f871f2318",
       "version_major": 2,
       "version_minor": 0
      },
      "text/plain": [
       "  0%|          | 0/50000 [00:00<?, ?it/s]"
      ]
     },
     "metadata": {},
     "output_type": "display_data"
    }
   ],
   "source": [
    "for episode in tqdm(range(episodes)):\n",
    "    epsilon = max(1-episode/episodes, 0.05)\n",
    "    state, info = env.reset()\n",
    "    while True:\n",
    "        action = epsilon_greedy(state, info, epsilon)\n",
    "        next_state, reward, terminate, trunc, info = env.step(action)\n",
    "        q_table[state][action] = (1 - learning_rate) * q_table[state][action] + learning_rate * (reward + gamma * np.max(q_table[next_state]))\n",
    "\n",
    "        state = next_state\n",
    "\n",
    "        if terminate or trunc:\n",
    "            break"
   ]
  },
  {
   "cell_type": "code",
   "execution_count": 31,
   "metadata": {},
   "outputs": [
    {
     "data": {
      "application/vnd.jupyter.widget-view+json": {
       "model_id": "0b06e35135234b3bb51eff8d1d5b6d18",
       "version_major": 2,
       "version_minor": 0
      },
      "text/plain": [
       "  0%|          | 0/100 [00:00<?, ?it/s]"
      ]
     },
     "metadata": {},
     "output_type": "display_data"
    },
    {
     "name": "stdout",
     "output_type": "stream",
     "text": [
      "mean_reward: -153.51, std_reward: 473.807503000955\n"
     ]
    }
   ],
   "source": [
    "episode_rewards = []\n",
    "for episode in tqdm(range(100)):\n",
    "    state, info = env.reset()\n",
    "    total_rewards_ep = 0\n",
    "\n",
    "    while True:\n",
    "        action = np.argmax(q_table[state][:])\n",
    "        next_state, reward, terminate, trunc, info = env.step(action)\n",
    "        total_rewards_ep += reward\n",
    "\n",
    "        if terminate or trunc:\n",
    "            break\n",
    "        state = next_state\n",
    "    episode_rewards.append(total_rewards_ep)\n",
    "mean_reward = np.mean(episode_rewards)\n",
    "std_reward = np.std(episode_rewards)\n",
    "\n",
    "print(f'mean_reward: {mean_reward}, std_reward: {std_reward}')"
   ]
  },
  {
   "cell_type": "code",
   "execution_count": 32,
   "metadata": {},
   "outputs": [],
   "source": [
    "import imageio as iio\n",
    "\n",
    "images = []\n",
    "state, info = env.reset(seed=np.random.randint(0, 500))\n",
    "img = env.render()\n",
    "images.append(img)\n",
    "while True:\n",
    "    action = np.argmax(q_table[state][np.where(info[\"action_mask\"] == 1)[0]])\n",
    "    state, reward, terminate, trunc, info = env.step(action)  # We directly put next_state = state for recording logic\n",
    "    img = env.render()\n",
    "    images.append(img)\n",
    "    if terminate or trunc:\n",
    "        break\n",
    "iio.mimsave('./taxi_QL.gif', [img for i, img in enumerate(images)], duration=0.1)"
   ]
  }
 ],
 "metadata": {
  "kernelspec": {
   "display_name": "rl",
   "language": "python",
   "name": "python3"
  },
  "language_info": {
   "codemirror_mode": {
    "name": "ipython",
    "version": 3
   },
   "file_extension": ".py",
   "mimetype": "text/x-python",
   "name": "python",
   "nbconvert_exporter": "python",
   "pygments_lexer": "ipython3",
   "version": "3.7.13"
  },
  "orig_nbformat": 4,
  "vscode": {
   "interpreter": {
    "hash": "a611ebf73b5a595208f49fca01426c4c0869c80788685bdbf36e7c3fcf7eb479"
   }
  }
 },
 "nbformat": 4,
 "nbformat_minor": 2
}
